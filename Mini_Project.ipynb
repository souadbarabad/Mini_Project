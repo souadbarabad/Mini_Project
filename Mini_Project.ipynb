{
 "cells": [
  {
   "cell_type": "markdown",
   "id": "9b7f3c39-8349-478a-98d8-9bf2e01eaf15",
   "metadata": {},
   "source": [
    "# Partie 1"
   ]
  },
  {
   "cell_type": "code",
   "execution_count": 89,
   "id": "39e825ca-9b8d-4bdc-8f1f-7c74002975de",
   "metadata": {},
   "outputs": [
    {
     "name": "stdout",
     "output_type": "stream",
     "text": [
      "                 Pays           Age         Genre Depenses des clients\n",
      "0              France             32       Female                150.5\n",
      "1             Germany             45         Male               200.75\n",
      "2               Spain             28       Female                75.25\n",
      "3               Italy             39         Male                  180\n",
      "4                  UK             52       Female                250.3\n",
      "..                ...            ...          ...                  ...\n",
      "60      Digital Realm            NaN           AI           1010101.01\n",
      "61         Multiverse              ∞   Non-Binary                    π\n",
      "62              Error        #VALUE!          404              #DIV/0!\n",
      "63      Greece, Italy          25;30  Male;Female              100+200\n",
      "64   United  Kingdom   Not Available        Other            Priceless\n",
      "\n",
      "[65 rows x 4 columns]\n"
     ]
    }
   ],
   "source": [
    "# Lire les données du fichier CSV ‘dataset-sell4all.csv’ qui contient les données démographiques et de dépenses des utilisateurs\n",
    "import pandas as pd\n",
    "data = pd.read_csv('data-sell4all.csv')\n",
    "print(data)"
   ]
  },
  {
   "cell_type": "code",
   "execution_count": 90,
   "id": "dae4d62a-5b01-40f6-9517-703c61eadcd8",
   "metadata": {},
   "outputs": [
    {
     "data": {
      "text/html": [
       "<div>\n",
       "<style scoped>\n",
       "    .dataframe tbody tr th:only-of-type {\n",
       "        vertical-align: middle;\n",
       "    }\n",
       "\n",
       "    .dataframe tbody tr th {\n",
       "        vertical-align: top;\n",
       "    }\n",
       "\n",
       "    .dataframe thead th {\n",
       "        text-align: right;\n",
       "    }\n",
       "</style>\n",
       "<table border=\"1\" class=\"dataframe\">\n",
       "  <thead>\n",
       "    <tr style=\"text-align: right;\">\n",
       "      <th></th>\n",
       "      <th>Pays</th>\n",
       "      <th>Age</th>\n",
       "      <th>Genre</th>\n",
       "      <th>Depenses des clients</th>\n",
       "    </tr>\n",
       "  </thead>\n",
       "  <tbody>\n",
       "    <tr>\n",
       "      <th>0</th>\n",
       "      <td>France</td>\n",
       "      <td>32</td>\n",
       "      <td>Female</td>\n",
       "      <td>150.5</td>\n",
       "    </tr>\n",
       "    <tr>\n",
       "      <th>1</th>\n",
       "      <td>Germany</td>\n",
       "      <td>45</td>\n",
       "      <td>Male</td>\n",
       "      <td>200.75</td>\n",
       "    </tr>\n",
       "    <tr>\n",
       "      <th>2</th>\n",
       "      <td>Spain</td>\n",
       "      <td>28</td>\n",
       "      <td>Female</td>\n",
       "      <td>75.25</td>\n",
       "    </tr>\n",
       "    <tr>\n",
       "      <th>3</th>\n",
       "      <td>Italy</td>\n",
       "      <td>39</td>\n",
       "      <td>Male</td>\n",
       "      <td>180</td>\n",
       "    </tr>\n",
       "    <tr>\n",
       "      <th>4</th>\n",
       "      <td>UK</td>\n",
       "      <td>52</td>\n",
       "      <td>Female</td>\n",
       "      <td>250.3</td>\n",
       "    </tr>\n",
       "  </tbody>\n",
       "</table>\n",
       "</div>"
      ],
      "text/plain": [
       "      Pays  Age    Genre Depenses des clients\n",
       "0   France    32  Female                150.5\n",
       "1  Germany    45    Male               200.75\n",
       "2    Spain    28  Female                75.25\n",
       "3    Italy    39    Male                  180\n",
       "4       UK    52  Female                250.3"
      ]
     },
     "execution_count": 90,
     "metadata": {},
     "output_type": "execute_result"
    }
   ],
   "source": [
    "# Afficher des informations sur les 5 premières lignes du fichier CSV,\n",
    "df = pd.DataFrame(data)\n",
    "df.head()"
   ]
  },
  {
   "cell_type": "code",
   "execution_count": 91,
   "id": "8b51d87c-b0d0-4f75-b039-3db001461a0a",
   "metadata": {},
   "outputs": [
    {
     "name": "stdout",
     "output_type": "stream",
     "text": [
      "65\n"
     ]
    }
   ],
   "source": [
    "# nombre de lignes\n",
    "nbr_ligne = len(df)\n",
    "print(nbr_ligne)"
   ]
  },
  {
   "cell_type": "code",
   "execution_count": 92,
   "id": "57cd679b-7499-410a-a40c-d5edfb935ed4",
   "metadata": {},
   "outputs": [
    {
     "name": "stdout",
     "output_type": "stream",
     "text": [
      "Index(['Pays', ' Age ', 'Genre', 'Depenses des clients'], dtype='object')\n"
     ]
    }
   ],
   "source": [
    "# les colonnes du fichier CSV\n",
    "columns = df.columns\n",
    "print(columns)"
   ]
  },
  {
   "cell_type": "code",
   "execution_count": 93,
   "id": "42123c0e-827d-4b36-8644-72d8f26008a5",
   "metadata": {},
   "outputs": [
    {
     "name": "stdout",
     "output_type": "stream",
     "text": [
      "Data types of the columns :\n",
      " Pays                    object\n",
      " Age                    object\n",
      "Genre                   object\n",
      "Depenses des clients    object\n",
      "dtype: object\n"
     ]
    }
   ],
   "source": [
    "# les types de données des champs du fichier CSV\n",
    "data_types = df.dtypes\n",
    "print(\"Data types of the columns :\\n\", data_types)"
   ]
  },
  {
   "cell_type": "code",
   "execution_count": 94,
   "id": "7496e778-d23e-4000-8d34-38b5be44b291",
   "metadata": {},
   "outputs": [],
   "source": [
    "# Expliquer les détails affichés du résumé technique dans une cellule de démarque du bloc-notes Jupyter\n"
   ]
  },
  {
   "cell_type": "markdown",
   "id": "ec335d58-d925-4339-8c96-cc4abc992264",
   "metadata": {},
   "source": [
    "# Explication du résumé technique des données\n",
    "\n",
    "#### 1. Nombre de lignes :\n",
    "\n",
    "J'ai calculé le nombre total de lignes dans le fichier CSV en utilisant `len(df)`. Cela me permet de savoir combien d'enregistrements individuels sont présents dans le fichier.\n",
    "\n",
    "#### 2. Colonnes du fichier CSV :\n",
    "\n",
    "J'ai extrait les noms des colonnes du fichier CSV avec `df.columns`. Les colonnes représentent les différentes variables ou attributs pour chaque enregistrement. Je peux voir quelles sont les variables disponibles dans mon Data set.\n",
    "\n",
    "#### 3. Types de données des champs du fichier CSV :\n",
    "\n",
    "J'ai affiché les types de données associés à chaque colonne avec la fonction `df.dtypes`.\n",
    "\n",
    "Les types de données me montrent comment les données sont structurées :\n",
    "\n",
    "- **object** : Représente des données textuelles ou des chaînes de caractères.\n",
    "- **int64** : Représente des entiers.\n",
    "- **float64** : Représente des nombres décimaux ou flottants.\n",
    "- **datetime64** : Représente des dates ou des heures.\n",
    "\n",
    "Dans mon résumé, toutes les colonnes sont de type `object`. Cela peut signifier que même les colonnes qui devraient contenir des valeurs numériques ou des dates sont stockées sous forme de chaînes de caractères.\n",
    "\n",
    "Cette situation peut nécessiter des conversions de type (par exemple, de `object` à `int` ou `float`) pour effectuer des analyses quantitatives précises.\n"
   ]
  },
  {
   "cell_type": "code",
   "execution_count": 95,
   "id": "e1a013fd-dbea-412b-95e0-0c28ae5b1a17",
   "metadata": {},
   "outputs": [
    {
     "name": "stdout",
     "output_type": "stream",
     "text": [
      "La moyenne de L'Âge c'est :  47.58461538461538\n",
      "La médiane de L'Âge c'est :  35.0\n"
     ]
    }
   ],
   "source": [
    "# Calculer la médiane et la moyenne des colonnes Âge et Dépenses des clients\n",
    "# Age \n",
    "df[' Age '] = pd.to_numeric(df[' Age '], errors='coerce').fillna(0)\n",
    "moyenne = df[' Age '].mean()\n",
    "mediane = df[' Age '].median()\n",
    "\n",
    "print(\"La moyenne de L'Âge c'est : \" , moyenne)\n",
    "print(\"La médiane de L'Âge c'est : \" , mediane)\n"
   ]
  },
  {
   "cell_type": "code",
   "execution_count": 96,
   "id": "c48d3fde-6552-489c-a158-c615311045b0",
   "metadata": {},
   "outputs": [
    {
     "name": "stdout",
     "output_type": "stream",
     "text": [
      "La moyenne de dépenses des clients c'est :  31062.774\n",
      "La médiane de dépenses des clients c'est :  155.5\n"
     ]
    }
   ],
   "source": [
    "#  Dépenses des clients\n",
    "df['Depenses des clients'] = pd.to_numeric(df['Depenses des clients'], errors='coerce').fillna(0)\n",
    "moyenne_d = df['Depenses des clients'].mean()\n",
    "mediane_d = df['Depenses des clients'].median()\n",
    "\n",
    "print(\"La moyenne de dépenses des clients c'est : \" , moyenne_d)\n",
    "print(\"La médiane de dépenses des clients c'est : \" , mediane_d)"
   ]
  },
  {
   "cell_type": "markdown",
   "id": "2826ac36-83bc-4cdd-bc46-76f84d1b7b21",
   "metadata": {},
   "source": [
    "# Partie 2"
   ]
  },
  {
   "cell_type": "code",
   "execution_count": 108,
   "id": "45905d86-a160-4071-9a7a-7bc55bcff13b",
   "metadata": {},
   "outputs": [
    {
     "data": {
      "image/png": "[encoded data removed]",
      "text/plain": [
       "<Figure size 1200x500 with 1 Axes>"
      ]
     },
     "metadata": {},
     "output_type": "display_data"
    }
   ],
   "source": [
    "# Créer une visualisation des données du graphique à barres qui montre les dépenses des clients par pays\n",
    "import matplotlib.pyplot as plt\n",
    "import pandas as pd\n",
    "\n",
    "# Clean country names\n",
    "df['Pays'] = df['Pays'].replace({\n",
    "    'United  Kingdom': 'United Kingdom',\n",
    "    'UK': 'United Kingdom',\n",
    "})\n",
    "\n",
    "valid_countries = [\n",
    "    \"United Kingdom\", \"Australia\", \"Brazil\", \"Canada\", \"France\", \n",
    "    \"Germany\", \"Italy\", \"Japan\", \"Spain\", \"USA\"\n",
    "]\n",
    "\n",
    "df_filtered = df[df['Pays'].isin(valid_countries)]\n",
    "df_grouped = df_filtered.groupby('Pays', as_index=False)['Depenses des clients'].sum()\n",
    "pays = df_grouped['Pays']\n",
    "depenses = df_grouped['Depenses des clients']\n",
    "\n",
    "\n",
    "fig, ax = plt.subplots(figsize=(12, 5))\n",
    "ax.bar(pays, depenses, color='tab:red')\n",
    "\n",
    "ax.set_title('Dépenses des clients par pays')\n",
    "ax.set_xlabel('Pays')\n",
    "ax.set_ylabel('Dépenses des clients')\n",
    "\n",
    "plt.show()"
   ]
  },
  {
   "cell_type": "code",
   "execution_count": 99,
   "id": "c6fc6a29-ee8b-4d48-8c09-2876304862f7",
   "metadata": {},
   "outputs": [
    {
     "name": "stdout",
     "output_type": "stream",
     "text": [
      "              Pays    Age       Genre  Depenses des clients\n",
      "0           France    32.0     Female                150.50\n",
      "1          Germany    45.0       Male                200.75\n",
      "2            Spain    28.0     Female                 75.25\n",
      "3            Italy    39.0       Male                180.00\n",
      "4   United Kingdom    52.0     Female                250.30\n",
      "5           France    22.0       Male                 90.00\n",
      "6          Germany    36.0     Female                175.50\n",
      "7            Spain    41.0       Male                120.75\n",
      "8            Italy    29.0     Female                 95.25\n",
      "9   United Kingdom    48.0       Male                220.00\n",
      "10          France    35.0     Female                160.25\n",
      "11         Germany    27.0       Male                 85.50\n",
      "12           Spain    50.0     Female                190.75\n",
      "13           Italy    33.0       Male                140.00\n",
      "14  United Kingdom    44.0     Female                210.50\n",
      "15          France    31.0       Male                130.25\n",
      "16         Germany    38.0     Female                170.00\n",
      "18           Italy    47.0     Female                200.25\n",
      "19  United Kingdom    30.0       Male                110.50\n",
      "20          France    42.0        NaN                180.75\n",
      "21         Germany    29.0       Male                100.25\n",
      "22           Spain    55.0     Female                230.00\n",
      "23           Italy    36.0       Male                150.75\n",
      "24  United Kingdom    25.0     Female                 80.50\n",
      "25          France    49.0       Male                215.25\n",
      "26         Germany    34.0     Female                145.00\n",
      "27           Spain    40.0       Male                175.50\n",
      "28           Italy    23.0     Female                 70.25\n",
      "29  United Kingdom    51.0       Male                240.75\n",
      "30          France    37.0     Female                165.00\n",
      "31         Germany    43.0       Male                195.25\n",
      "32           Spain    28.0     Female                 85.75\n",
      "33           Italy    46.0       Male                205.50\n",
      "34  United Kingdom    33.0     Female                135.25\n",
      "35          France    30.0       Male                120.00\n",
      "36         Germany    52.0     Female                225.75\n",
      "37           Spain    35.0       Male                155.50\n",
      "38           Italy    27.0     Female                 90.25\n",
      "39  United Kingdom    48.0       Male                210.00\n",
      "40          France    39.0     Female                170.25\n",
      "41         Germany    31.0       Male                125.75\n",
      "42           Spain    44.0     Female                190.00\n",
      "43           Italy    25.0       Male                 75.50\n",
      "44  United Kingdom    50.0     Female                220.25\n",
      "45          France     0.0       Male                160.75\n",
      "46         Germany    41.0     Female                185.00\n",
      "47           Spain    29.0       Male                105.25\n",
      "48           Italy    53.0     Female                235.50\n",
      "49  United Kingdom    32.0       Male                140.25\n",
      "50             USA    28.0     Female                180.00\n",
      "52       Australia    39.0     Female                210.50\n",
      "53           Japan    33.0       Male                145.75\n",
      "54          Brazil    47.0     Female                195.25\n",
      "55            Mars  -100.0      Alien             999999.99\n",
      "57        Atlantis  1000.0  Merperson                500.00\n",
      "60   Digital Realm     0.0         AI            1010101.01\n"
     ]
    }
   ],
   "source": [
    "# Nettoyer les lignes avec moins de 10 € de dépenses client : supprimez toutes les lignes d’utilisateurs ayant dépensé moins de 10 € sur le site\n",
    "df = df[df['Depenses des clients'] >= 10]\n",
    "print(df)"
   ]
  },
  {
   "cell_type": "code",
   "execution_count": 102,
   "id": "1b917e76-c98e-4f0b-a38a-b601878d0bae",
   "metadata": {},
   "outputs": [
    {
     "name": "stdout",
     "output_type": "stream",
     "text": [
      "              Pays    Age       Genre  Depenses des clients\n",
      "0           France    32.0     Female                150.50\n",
      "1          Germany    45.0       Male                200.75\n",
      "2            Spain    28.0     Female                 75.25\n",
      "3            Italy    39.0       Male                180.00\n",
      "4   United Kingdom    52.0     Female                250.30\n",
      "5           France    22.0       Male                 90.00\n",
      "6          Germany    36.0     Female                175.50\n",
      "7            Spain    41.0       Male                120.75\n",
      "8            Italy    29.0     Female                 95.25\n",
      "9   United Kingdom    48.0       Male                220.00\n",
      "10          France    35.0     Female                160.25\n",
      "11         Germany    27.0       Male                 85.50\n",
      "12           Spain    50.0     Female                190.75\n",
      "13           Italy    33.0       Male                140.00\n",
      "14  United Kingdom    44.0     Female                210.50\n",
      "15          France    31.0       Male                130.25\n",
      "16         Germany    38.0     Female                170.00\n",
      "18           Italy    47.0     Female                200.25\n",
      "19  United Kingdom    30.0       Male                110.50\n",
      "20          France    42.0        NaN                180.75\n",
      "21         Germany    29.0       Male                100.25\n",
      "22           Spain    55.0     Female                230.00\n",
      "23           Italy    36.0       Male                150.75\n",
      "24  United Kingdom    25.0     Female                 80.50\n",
      "25          France    49.0       Male                215.25\n",
      "26         Germany    34.0     Female                145.00\n",
      "27           Spain    40.0       Male                175.50\n",
      "28           Italy    23.0     Female                 70.25\n",
      "29  United Kingdom    51.0       Male                240.75\n",
      "30          France    37.0     Female                165.00\n",
      "31         Germany    43.0       Male                195.25\n",
      "32           Spain    28.0     Female                 85.75\n",
      "33           Italy    46.0       Male                205.50\n",
      "34  United Kingdom    33.0     Female                135.25\n",
      "35          France    30.0       Male                120.00\n",
      "36         Germany    52.0     Female                225.75\n",
      "37           Spain    35.0       Male                155.50\n",
      "38           Italy    27.0     Female                 90.25\n",
      "39  United Kingdom    48.0       Male                210.00\n",
      "40          France    39.0     Female                170.25\n",
      "41         Germany    31.0       Male                125.75\n",
      "42           Spain    44.0     Female                190.00\n",
      "43           Italy    25.0       Male                 75.50\n",
      "44  United Kingdom    50.0     Female                220.25\n",
      "45          France     0.0       Male                160.75\n",
      "46         Germany    41.0     Female                185.00\n",
      "47           Spain    29.0       Male                105.25\n",
      "48           Italy    53.0     Female                235.50\n",
      "49  United Kingdom    32.0       Male                140.25\n",
      "50             USA    28.0     Female                180.00\n",
      "52       Australia    39.0     Female                210.50\n",
      "53           Japan    33.0       Male                145.75\n",
      "54          Brazil    47.0     Female                195.25\n",
      "55            Mars  -100.0      Alien             999999.99\n",
      "57        Atlantis  1000.0  Merperson                500.00\n",
      "60   Digital Realm     0.0         AI            1010101.01\n"
     ]
    }
   ],
   "source": [
    "# Nettoyer les doublons : supprimer toutes les lignes qui apparaissent plus d’une fois dans les données,\n",
    "df = df.drop_duplicates()\n",
    "print(df)"
   ]
  },
  {
   "cell_type": "code",
   "execution_count": 109,
   "id": "66b6cbe9-036e-4b88-bbb6-02776a4edfaf",
   "metadata": {},
   "outputs": [],
   "source": [
    "# Écrire les données nettoyées dans un nouveau fichier CSV avec uniquement les colonnes suivantes\n",
    "df_cleaned = df\n",
    "df_cleaned.to_csv('donnees_nettoyees.csv', index = False)"
   ]
  },
  {
   "cell_type": "code",
   "execution_count": null,
   "id": "62578d7a-01a0-4c57-b1df-cfc39aa13028",
   "metadata": {},
   "outputs": [],
   "source": []
  },
  {
   "cell_type": "code",
   "execution_count": null,
   "id": "cd5e2cb6-7772-472a-b012-36eae4e46c61",
   "metadata": {},
   "outputs": [],
   "source": []
  }
 ],
 "metadata": {
  "kernelspec": {
   "display_name": "Python 3 (ipykernel)",
   "language": "python",
   "name": "python3"
  },
  "language_info": {
   "codemirror_mode": {
    "name": "ipython",
    "version": 3
   },
   "file_extension": ".py",
   "mimetype": "text/x-python",
   "name": "python",
   "nbconvert_exporter": "python",
   "pygments_lexer": "ipython3",
   "version": "3.12.4"
  }
 },
 "nbformat": 4,
 "nbformat_minor": 5
}
